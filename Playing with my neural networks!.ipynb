{
 "cells": [
  {
   "cell_type": "code",
   "execution_count": 57,
   "id": "9836d810",
   "metadata": {},
   "outputs": [],
   "source": [
    "import numpy as np\n",
    "from neural_network import MLP"
   ]
  },
  {
   "cell_type": "code",
   "execution_count": 2,
   "id": "06c5e824",
   "metadata": {},
   "outputs": [
    {
     "name": "stdout",
     "output_type": "stream",
     "text": [
      "X_train: (60000, 28, 28)\n",
      "Y_train: (60000,)\n",
      "X_test:  (10000, 28, 28)\n",
      "Y_test:  (10000,)\n"
     ]
    }
   ],
   "source": [
    "from keras.datasets import mnist\n",
    "\n",
    "(train_X, train_y), (test_X, test_y) = mnist.load_data()\n",
    "\n",
    "print(f'X_train: {train_X.shape}')\n",
    "print(f'Y_train: {train_y.shape}')\n",
    "print(f'X_test:  {test_X.shape}')\n",
    "print(f'Y_test:  {test_y.shape}')\n"
   ]
  },
  {
   "cell_type": "code",
   "execution_count": 58,
   "id": "3c570563",
   "metadata": {},
   "outputs": [],
   "source": [
    "my_nn = MLP([28*28, 30, 30, 10])"
   ]
  },
  {
   "cell_type": "code",
   "execution_count": 4,
   "id": "b5be3ea5",
   "metadata": {},
   "outputs": [],
   "source": [
    "train_x_flattened = [x.flatten().reshape((-1, 1)) for x in train_X]\n",
    "test_x_flattened = [x.flatten().reshape((-1, 1)) for x in test_X]"
   ]
  },
  {
   "cell_type": "code",
   "execution_count": 5,
   "id": "cd6b0b3a",
   "metadata": {},
   "outputs": [],
   "source": [
    "train_y_vectorized = [ np.zeros((10, 1)) for _ in train_y]\n",
    "for i, y in enumerate(train_y):\n",
    "    train_y_vectorized[i][y] = 1.0\n",
    "test_y_vectorized = [ np.zeros((10, 1)) for _ in test_y]\n",
    "for i, y in enumerate(test_y):\n",
    "    test_y_vectorized[i][y] = 1.0"
   ]
  },
  {
   "cell_type": "code",
   "execution_count": 59,
   "id": "bc87f3b5",
   "metadata": {
    "scrolled": false
   },
   "outputs": [
    {
     "name": "stderr",
     "output_type": "stream",
     "text": [
      "C:\\Users\\17033\\Documents\\gap_projects\\backprop-practice\\neural_network.py:12: RuntimeWarning: overflow encountered in exp\n",
      "  return 1.0 / (1.0 + np.exp(-1 * x))\n"
     ]
    },
    {
     "name": "stdout",
     "output_type": "stream",
     "text": [
      "Accuracy for epoch 0: 0.5002\n",
      "Accuracy for epoch 1: 0.5593\n",
      "Accuracy for epoch 2: 0.5966\n",
      "Accuracy for epoch 3: 0.6408\n",
      "Accuracy for epoch 4: 0.675\n",
      "Accuracy for epoch 5: 0.683\n",
      "Accuracy for epoch 6: 0.693\n",
      "Accuracy for epoch 7: 0.6906\n",
      "Accuracy for epoch 8: 0.6893\n",
      "Accuracy for epoch 9: 0.6892\n",
      "Accuracy for epoch 10: 0.6959\n",
      "Accuracy for epoch 11: 0.7012\n",
      "Accuracy for epoch 12: 0.7071\n",
      "Accuracy for epoch 13: 0.7101\n",
      "Accuracy for epoch 14: 0.7112\n",
      "Accuracy for epoch 15: 0.714\n",
      "Accuracy for epoch 16: 0.7222\n",
      "Accuracy for epoch 17: 0.7256\n",
      "Accuracy for epoch 18: 0.7281\n",
      "Accuracy for epoch 19: 0.7291\n"
     ]
    }
   ],
   "source": [
    "my_nn.sgd(train_x_flattened[:10000], train_y_vectorized[:10000], test_x_flattened, test_y_vectorized, epochs=20, batch_size=100)"
   ]
  },
  {
   "cell_type": "code",
   "execution_count": null,
   "id": "698b343d",
   "metadata": {},
   "outputs": [],
   "source": []
  }
 ],
 "metadata": {
  "kernelspec": {
   "display_name": "Python 3 (ipykernel)",
   "language": "python",
   "name": "python3"
  },
  "language_info": {
   "codemirror_mode": {
    "name": "ipython",
    "version": 3
   },
   "file_extension": ".py",
   "mimetype": "text/x-python",
   "name": "python",
   "nbconvert_exporter": "python",
   "pygments_lexer": "ipython3",
   "version": "3.7.9"
  }
 },
 "nbformat": 4,
 "nbformat_minor": 5
}
